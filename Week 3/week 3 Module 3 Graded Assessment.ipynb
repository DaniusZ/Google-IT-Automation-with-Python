{
 "cells": [
  {
   "cell_type": "markdown",
   "metadata": {},
   "source": [
    "# 1.Fill in the blanks of this code to print out the numbers 1 through 7.\n",
    "ans:-\n",
    "number = 1\n",
    "while number <= 7:\n",
    "  print(number, end=\" \")\n",
    "  number += 1"
   ]
  },
  {
   "cell_type": "markdown",
   "metadata": {},
   "source": [
    "# 2.The show_letters function should print out each letter of a word on a separate line. Fill in the blanks to make that happen.\n",
    "ans:-\n",
    "\n",
    "def show_letters(word):\n",
    "\tfor w in word:\n",
    "\t\tprint(w)\n",
    "\n",
    "show_letters(\"Hello\")\n",
    "#Should print one line per letter"
   ]
  },
  {
   "cell_type": "markdown",
   "metadata": {},
   "source": [
    "# 3.Complete the function digits(n) that returns how many digits the number has. For example: 25 has 2 digits and 144 has 3 digits. Tip: you can figure out the digits of a number by dividing it by 10 once per digit until there are no digits left.\n",
    "ans:-\n",
    "\n",
    "def digits(n):\n",
    "\tcount = 0\n",
    "\tif n == 0:\n",
    "\t  return 1\n",
    "\twhile (n>0):\n",
    "\t\tcount += 1\n",
    "\t\tn=n//10\n",
    "\treturn count\n",
    "\t\n",
    "print(digits(25))   # Should print 2\n",
    "print(digits(144))  # Should print 3\n",
    "print(digits(1000)) # Should print 4\n",
    "print(digits(0))    # Should print 1\n"
   ]
  },
  {
   "cell_type": "markdown",
   "metadata": {},
   "source": [
    "# 4.  This function prints out a multiplication table (where each number is the result of multiplying the first number of its row by the number at the top of its column). Fill in the blanks so that calling multiplication_table(1, 3) will print out:\n",
    "\n",
    "1 2 3\n",
    "\n",
    "2 4 6\n",
    "\n",
    "3 6 9\n",
    "\n",
    "ans:-\n",
    "def multiplication_table(start, stop):\n",
    "\tfor x in range(start, stop+1):\n",
    "\t\tfor y in range(start,stop+1):\n",
    "\t\t\tprint(str(x*y), end=\" \")\n",
    "\t\tprint()\n",
    "\n",
    "multiplication_table(1, 3)\n",
    "#Should print the multiplication table shown above\n"
   ]
  },
  {
   "cell_type": "markdown",
   "metadata": {},
   "source": [
    "# 5.The counter function counts down from start to stop when start is bigger than stop, and counts up from start to stop otherwise. Fill in the blanks to make this work correctly.\n",
    "ans:-\n",
    " \n",
    "def counter(start, stop):\n",
    "\tx = start\n",
    "\tif start>stop:\n",
    "\t\treturn_string = \"Counting down: \"\n",
    "\t\twhile x >= stop:\n",
    "\t\t\treturn_string += str(x)\n",
    "\t\t\tif x!=stop:\n",
    "\t\t\t\treturn_string += \",\"\n",
    "\t\t\tx=x-1\n",
    "\telse:\n",
    "\t\treturn_string = \"Counting up: \"\n",
    "\t\twhile x <= stop:\n",
    "\t\t\treturn_string += str(x)\n",
    "\t\t\tif x!=stop:\n",
    "\t\t\t\treturn_string += \",\"\n",
    "\t\t\tx=x+1\n",
    "\treturn return_string\n",
    "\n",
    "print(counter(1, 10)) # Should be \"Counting up: 1,2,3,4,5,6,7,8,9,10\"\n",
    "print(counter(2, 1)) # Should be \"Counting down: 2,1\"\n",
    "print(counter(5, 5)) # Should be \"Counting up: 5\""
   ]
  },
  {
   "cell_type": "markdown",
   "metadata": {},
   "source": [
    "# 6.The even_numbers function returns a space-separated string of all positive numbers that are divisible by 2, up to and including the maximum that's passed into the function. For example, even_numbers(6) returns “2 4 6”. Fill in the blank to make this work.\n",
    "\n",
    "ans:- \n",
    "def even_numbers(maximum):\n",
    "\treturn_string = \"\"\n",
    "\tfor x in range(1, maximum+1):\n",
    "\t  if(x%2==0):\n",
    "\t\t  return_string += str(x) + \" \"\n",
    "\treturn return_string.strip()\n",
    "\n",
    "print(even_numbers(6))  # Should be 2 4 6\n",
    "print(even_numbers(10)) # Should be 2 4 6 8 10\n",
    "print(even_numbers(1))  # No numbers displayed\n",
    "print(even_numbers(3))  # Should be 2\n",
    "print(even_numbers(0))  # No numbers displayed"
   ]
  },
  {
   "cell_type": "markdown",
   "metadata": {},
   "source": [
    "# 7. The following code raises an error when executed. What's the reason for the error?\n",
    "def decade_counter():\n",
    "\twhile year < 50:\n",
    "\t\tyear += 10\n",
    "\treturn year\n",
    "    \n",
    "ANS:-\n",
    "Failure to initialize variables"
   ]
  },
  {
   "cell_type": "markdown",
   "metadata": {},
   "source": [
    "# 8.What is the value of x at the end of the following code?\n",
    "for x in range(1, 10, 3):\n",
    "    print(x)\n",
    "ANS:- 7\n",
    "\n"
   ]
  },
  {
   "cell_type": "markdown",
   "metadata": {},
   "source": [
    "# 9.What is the value of y at the end of the following code?\n",
    "for x in range(10):\n",
    "    for y in range(x):\n",
    "        print(y)\n",
    "ANS:- 8"
   ]
  },
  {
   "cell_type": "markdown",
   "metadata": {},
   "source": [
    "# 10. How does this function need to be called to print yes, no, and maybe as possible options to vote for?\n",
    "def votes(params):\n",
    "\tfor vote in params:\n",
    "\t    print(\"Possible option:\" + vote)\n",
    "    \n",
    "ANS:- \n",
    "votes(['yes', 'no', 'maybe'])"
   ]
  }
 ],
 "metadata": {
  "kernelspec": {
   "display_name": "Python 3",
   "language": "python",
   "name": "python3"
  },
  "language_info": {
   "codemirror_mode": {
    "name": "ipython",
    "version": 3
   },
   "file_extension": ".py",
   "mimetype": "text/x-python",
   "name": "python",
   "nbconvert_exporter": "python",
   "pygments_lexer": "ipython3",
   "version": "3.7.6"
  }
 },
 "nbformat": 4,
 "nbformat_minor": 4
}
