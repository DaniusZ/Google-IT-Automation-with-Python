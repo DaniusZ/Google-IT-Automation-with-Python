{
 "cells": [
  {
   "cell_type": "markdown",
   "metadata": {},
   "source": [
    "# 1.What is recursion used for?\n",
    "ans:- \n",
    "Recursion lets us tackle complex problems by reducing the problem to a simpler one."
   ]
  },
  {
   "cell_type": "markdown",
   "metadata": {},
   "source": [
    "# 2. Which of these activities are good use cases for recursive programs? Check all that apply.\n",
    "ans:- \n",
    "Going through a file system collecting information related to directories and files.\n",
    "Managing permissions assigned to groups inside a company, when each group can contain both subgroups and users."
   ]
  },
  {
   "cell_type": "markdown",
   "metadata": {},
   "source": [
    "# 3. Fill in the blanks to make the is_power_of function return whether the number is a power of the given base. Note: base is assumed to be a positive number. Tip: for functions that return a boolean value, you can return the result of a comparison.\n",
    "ans:-\n",
    "def is_power_of(number, base):\n",
    "  #Base case: when number is smaller than base.\n",
    "  if number < base:\n",
    "    # If number is equal to 1, it's a power (base**0).\n",
    "    if(number==1):\n",
    "       return True\n",
    "    return False\n",
    "\n",
    "  #Recursive case: keep dividing number by base.\n",
    "  return is_power_of(number//base,base)\n",
    "\n",
    "print(is_power_of(8,2)) # Should be True\n",
    "print(is_power_of(64,4)) # Should be True\n",
    "print(is_power_of(70,10)) # Should be False"
   ]
  },
  {
   "cell_type": "markdown",
   "metadata": {},
   "source": [
    "# 4.The count_users function recursively counts the amount of users that belong to a group in the company system, by going through each of the members of a group and if one of them is a group, recursively calling the function and counting the members. But it has a bug! Can you spot the problem and fix it?\n",
    "\n",
    "ans:-\n",
    "def count_users(group):\n",
    "  count = 0\n",
    "  for member in get_members(group):\n",
    "   #count += 1\n",
    "    if is_group(member):\n",
    "      count += count_users(member)\n",
    "    else:\n",
    "      count += 1\n",
    "  return count\n",
    "\n",
    "print(count_users(\"sales\")) # Should be 3\n",
    "print(count_users(\"engineering\")) # Should be 8\n",
    "print(count_users(\"everyone\")) # Should be 18"
   ]
  },
  {
   "cell_type": "markdown",
   "metadata": {},
   "source": [
    "# 5.Implement the sum_positive_numbers function, as a recursive function that returns the sum of all positive numbers between the number n received and 1. For example, when n is 3 it should return 1+2+3=6, and when n is 5 it should return 1+2+3+4+5=15.\n",
    "ans:- \n",
    "def sum_positive_numbers(n):\n",
    "  if(n<1):\n",
    "     return 0\n",
    "  return n+sum_positive_numbers(n-1)\n",
    "\n",
    "print(sum_positive_numbers(3)) # Should be 6\n",
    "print(sum_positive_numbers(5)) # Should be 15"
   ]
  }
 ],
 "metadata": {
  "kernelspec": {
   "display_name": "Python 3",
   "language": "python",
   "name": "python3"
  },
  "language_info": {
   "codemirror_mode": {
    "name": "ipython",
    "version": 3
   },
   "file_extension": ".py",
   "mimetype": "text/x-python",
   "name": "python",
   "nbconvert_exporter": "python",
   "pygments_lexer": "ipython3",
   "version": "3.7.6"
  }
 },
 "nbformat": 4,
 "nbformat_minor": 4
}
